{
 "cells": [
  {
   "cell_type": "code",
   "execution_count": 94,
   "metadata": {},
   "outputs": [],
   "source": [
    "import numpy as np\n",
    "import pandas as pd\n",
    "from statistics import mean\n",
    "import matplotlib.pyplot as plt\n",
    "%matplotlib inline\n",
    "import random"
   ]
  },
  {
   "cell_type": "code",
   "execution_count": 95,
   "metadata": {},
   "outputs": [],
   "source": [
    "# x = np.array([1, 2, 3, 4, 5, 6])\n",
    "# y = np.array([5, 4, 6, 5, 6, 7])\n",
    "\n",
    "def create_dataset(hm,variance,step=2,correlation=False):\n",
    "    val = 1\n",
    "    ys = []\n",
    "    for i in range(hm):\n",
    "        y = val + random.randrange(-variance,variance)\n",
    "        ys.append(y)\n",
    "        if correlation and correlation == 'pos':\n",
    "            val+=step\n",
    "        elif correlation and correlation == 'neg':\n",
    "            val-=step\n",
    "\n",
    "    xs = [i for i in range(len(ys))]\n",
    "    \n",
    "    return np.array(xs, dtype=np.float64),np.array(ys,dtype=np.float64)\n"
   ]
  },
  {
   "cell_type": "markdown",
   "metadata": {},
   "source": [
    "# Regression math:"
   ]
  },
  {
   "cell_type": "markdown",
   "metadata": {},
   "source": [
    "For regression, we generally draw the best fit line in a given dataset. The best fit line equation is given by:<br><br>\n",
    "$\\Large y  = m \\cdot x + b$ <br><br>\n",
    "where, m = slope of the line and, b = y-intercept<br>\n",
    "slope is given by,<br><br>\n",
    "$\\Large m = \\frac{\\bar{x} \\cdot \\bar{y} - \\bar{x \\cdot y}}{\\bar{x}^2 - \\bar{x^2}}$<br><br>\n",
    "and, y-intercept is give by,<br><br>\n",
    "$\\Large b = \\bar{y} - m \\cdot \\bar{x}$"
   ]
  },
  {
   "cell_type": "code",
   "execution_count": 96,
   "metadata": {},
   "outputs": [],
   "source": [
    "def best_fit_slope_yint(xs, ys):\n",
    "    m = (mean(xs)*mean(ys) - mean(xs*ys))/(mean(xs)**2 - mean(xs**2))\n",
    "    b = mean(ys) - m*mean(xs)\n",
    "    \n",
    "    return m, b"
   ]
  },
  {
   "cell_type": "markdown",
   "metadata": {},
   "source": [
    "### R-Squared Theory\n",
    "\n",
    "This is used to determine the accuracy of the best fit line.<br><br>\n",
    "$\\Large R^2 = 1 - \\frac{\\text{Squared Error of  } \\hat{y}}{\\text{Squared Error of  } \\bar{y}}$<br><br>\n",
    "where, $\\hat{y}$ is best-fit line or Regression line and, $\\bar{y}$ is mean of all y."
   ]
  },
  {
   "cell_type": "code",
   "execution_count": 97,
   "metadata": {},
   "outputs": [],
   "source": [
    "def squared_error(ys_orig, ys_line):\n",
    "    \n",
    "    return sum((ys_line - ys_orig)**2)"
   ]
  },
  {
   "cell_type": "code",
   "execution_count": 98,
   "metadata": {},
   "outputs": [],
   "source": [
    "def coefficient_of_determination(ys_orig, ys_line):\n",
    "    ys_mean_line = [np.mean(ys_orig) for y in ys_orig]\n",
    "    square_error_regressor = squared_error(ys_orig, ys_line)\n",
    "    square_error_mean = squared_error(ys_orig, ys_mean_line)\n",
    "    return (1 - square_error_regressor/square_error_mean)\n",
    "    "
   ]
  },
  {
   "cell_type": "code",
   "execution_count": 99,
   "metadata": {},
   "outputs": [
    {
     "data": {
      "image/png": "[encoded data removed]",
      "text/plain": [
       "<Figure size 432x288 with 1 Axes>"
      ]
     },
     "metadata": {
      "needs_background": "light"
     },
     "output_type": "display_data"
    }
   ],
   "source": [
    "xs, ys = create_dataset(40, 30, 2, correlation='pos')\n",
    "\n",
    "plt.scatter(xs, ys)\n",
    "plt.show()"
   ]
  },
  {
   "cell_type": "code",
   "execution_count": 100,
   "metadata": {},
   "outputs": [],
   "source": [
    "m, b = best_fit_slope_yint(xs, ys)\n",
    "\n",
    "regression_line = [((m*x) + b) for x in xs]"
   ]
  },
  {
   "cell_type": "code",
   "execution_count": 101,
   "metadata": {},
   "outputs": [
    {
     "data": {
      "image/png": "[encoded data removed]",
      "text/plain": [
       "<Figure size 432x288 with 1 Axes>"
      ]
     },
     "metadata": {
      "needs_background": "light"
     },
     "output_type": "display_data"
    }
   ],
   "source": [
    "plt.scatter(xs, ys)\n",
    "plt.plot(xs, regression_line, color='red')\n",
    "plt.show()"
   ]
  },
  {
   "cell_type": "code",
   "execution_count": 102,
   "metadata": {},
   "outputs": [
    {
     "name": "stdout",
     "output_type": "stream",
     "text": [
      "14.396247654784244\n"
     ]
    }
   ],
   "source": [
    "predict_x = 8\n",
    "predict_y = m*predict_x + b\n",
    "\n",
    "print(predict_y)"
   ]
  },
  {
   "cell_type": "code",
   "execution_count": 103,
   "metadata": {},
   "outputs": [
    {
     "name": "stdout",
     "output_type": "stream",
     "text": [
      "0.6424954245257444\n"
     ]
    }
   ],
   "source": [
    "r_squared = coefficient_of_determination(ys, regression_line)\n",
    "\n",
    "print(r_squared)"
   ]
  },
  {
   "cell_type": "code",
   "execution_count": 104,
   "metadata": {},
   "outputs": [
    {
     "data": {
      "image/png": "[encoded data removed]",
      "text/plain": [
       "<Figure size 432x288 with 1 Axes>"
      ]
     },
     "metadata": {
      "needs_background": "light"
     },
     "output_type": "display_data"
    }
   ],
   "source": [
    "plt.scatter(xs, ys)\n",
    "plt.scatter(predict_x, predict_y)\n",
    "plt.plot(xs, regression_line)\n",
    "plt.show()"
   ]
  },
  {
   "cell_type": "code",
   "execution_count": null,
   "metadata": {},
   "outputs": [],
   "source": []
  }
 ],
 "metadata": {
  "kernelspec": {
   "display_name": "Python 3.8.5 64-bit",
   "language": "python",
   "name": "python38564bitbb7a8a3ddc79400083e98f81ce249e89"
  },
  "language_info": {
   "codemirror_mode": {
    "name": "ipython",
    "version": 3
   },
   "file_extension": ".py",
   "mimetype": "text/x-python",
   "name": "python",
   "nbconvert_exporter": "python",
   "pygments_lexer": "ipython3",
   "version": "3.8.5"
  }
 },
 "nbformat": 4,
 "nbformat_minor": 4
}
